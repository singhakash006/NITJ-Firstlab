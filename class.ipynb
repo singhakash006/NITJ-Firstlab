{
 "cells": [
  {
   "cell_type": "code",
   "execution_count": null,
   "id": "3912ec8d",
   "metadata": {},
   "outputs": [],
   "source": []
  }
 ],
 "metadata": {
  "language_info": {
   "name": "python"
  }
 },
 "nbformat": 4,
 "nbformat_minor": 5
}
